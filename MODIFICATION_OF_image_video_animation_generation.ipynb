{
  "nbformat": 4,
  "nbformat_minor": 0,
  "metadata": {
    "colab": {
      "provenance": [],
      "include_colab_link": true
    },
    "kernelspec": {
      "name": "python3",
      "display_name": "Python 3"
    },
    "language_info": {
      "name": "python"
    }
  },
  "cells": [
    {
      "cell_type": "markdown",
      "metadata": {
        "id": "view-in-github",
        "colab_type": "text"
      },
      "source": [
        "<a href=\"https://colab.research.google.com/github/MuskanG0110/GenAI/blob/main/MODIFICATION_OF_image_video_animation_generation.ipynb\" target=\"_parent\"><img src=\"https://colab.research.google.com/assets/colab-badge.svg\" alt=\"Open In Colab\"/></a>"
      ]
    },
    {
      "cell_type": "markdown",
      "source": [
        "# **Title** : **Image and GIF Generative AI based on Replicate**\n",
        "\n",
        "# **Brief description of the Project scope :**\n",
        "\n",
        "The project aims to implement a robust Image and GIF Generative AI based on the Replicate project. Utilizing advanced algorithms and Google Colab, it focuses on enhancing creative content generation. The scope includes algorithmic development, user customization, and evaluation, with the goal of delivering a versatile and user-friendly tool for diverse visual content creation.\n",
        "\n",
        "\n",
        "\n",
        "\n"
      ],
      "metadata": {
        "id": "ZWRrPYjU-FnH"
      }
    },
    {
      "cell_type": "markdown",
      "source": [
        "# **Group Members :**\n",
        "\n",
        "\n",
        "* MUSKANPREET GILL\n",
        "\n",
        "\n",
        "\n",
        "    STUDENT ID NUMBER : 4349277\n",
        "* UDAY KUMAR\n",
        "\n",
        "\n",
        "\n",
        "\n",
        "    STUDENT ID NUMBER : 4348566"
      ],
      "metadata": {
        "id": "8ugcCz4l9POS"
      }
    },
    {
      "cell_type": "markdown",
      "source": [
        "# **Detailed Project Description Cell**\n",
        "\n",
        "This project centers on implementing an Image and GIF Generative AI, building upon the Replicate project. Leveraging advanced algorithms within Google Colab, it entails extensive algorithmic development to enhance creative content generation. The project emphasizes user customization features, ensuring adaptability to diverse preferences.\n",
        "\n",
        " An evaluation framework will be established to assess algorithmic performance. The ultimate objective is to deliver a user-friendly and versatile tool for visual content creation, with applications ranging from artistic endeavors to multimedia production, enriching the user experience in digital media creation.\n",
        "\n",
        "\n",
        "\n",
        "## **OBJECTIVES** :\n",
        "- Implement advanced generative algorithms based on the Replicate project.\n",
        "- Develop user-friendly features for customization.\n",
        "- Ensure adaptability to diverse user preferences.\n",
        "- Establish an evaluation framework for algorithmic performance.\n",
        "- Deliver a versatile tool for creative content generation.\n",
        "- Enrich user experience in digital media creation.\n",
        "- Explore applications in artistic expression and multimedia production.\n",
        "\n",
        "\n",
        "\n",
        "\n",
        "\n",
        "## **OUTCOMES**\n",
        "\n",
        " * successful implementation of sophisticated algorithms, resulting in a versatile tool for creative content generation.\n",
        " * User-friendly features are expected to enhance customization and adaptability, providing a diverse range of options for users.\n",
        " * The establishment of a reliable evaluation framework aims to ensure the generative AI's performance and robustness.\n",
        " * Ultimately, the project aspires to yield a solution with applications in artistic expression and multimedia production, offering an enriched and dynamic user experience in the realm of digital content creation.\n",
        "\n",
        "\n",
        "\n",
        "\n",
        "\n",
        "\n",
        "\n",
        "\n",
        "\n"
      ],
      "metadata": {
        "id": "SJNvsyvv-jM1"
      }
    },
    {
      "cell_type": "markdown",
      "source": [
        "# **Modification/New Addition Specification**\n",
        "\n",
        "-  The project will incorporate an intuitive user interface for seamless navigation and interaction, promoting a user-friendly experience. The inclusion of adaptive learning mechanisms will enable the model to evolve and enhance its creative outputs over time.\n",
        "-  Further, the project will explore integrating cloud-based services for improved accessibility and scalability. Real-time collaboration features and an expanded library of pre-trained models will be introduced, providing users with a broader spectrum of creative possibilities and simplifying the content generation process within the Image and GIF Generative AI framework.\n",
        "\n",
        "## **Impact**\n",
        "\n",
        "\n",
        "- The modifications are crucial for elevating the Image and GIF Generative AI based on the Replicate project. The intuitive interface enhances user engagement, ensuring accessibility and ease of use. Adaptive learning promotes continuous improvement, refining creative outputs dynamically.\n",
        "- Integration of cloud-based services not only augments scalability but also facilitates seamless collaboration. The expanded library and real-time collaboration features amplify creative possibilities, making the platform more versatile.\n",
        "- These modifications collectively enhance the user experience, broaden functionality, and solidify the project's significance in delivering a cutting-edge, adaptable, and collaborative tool for advanced visual content generation.\n",
        "\n",
        "\n",
        "\n"
      ],
      "metadata": {
        "id": "DDwC-cRK2C_x"
      }
    },
    {
      "cell_type": "markdown",
      "source": [
        "# **Criteria-Specific Cell**\n",
        "\n",
        "## **Image and GIF GenAI using Replicate Relevance :**\n",
        "\n",
        "+ The relevance of Image and GIF Generative AI using Replicate lies in its transformative impact on creative content generation.\n",
        "+ By leveraging advanced algorithms within Google Colab, it addresses the growing need for user-friendly and customizable tools.\n",
        "+ The project aligns with the evolving demands of digital media creation, offering a versatile solution with potential applications in artistic expression and multimedia production.\n",
        "+ The modifications introduced enhance accessibility, scalability, and collaboration, reinforcing its relevance in providing a cutting-edge and adaptive platform for users to explore and innovate in the realm of visual content creation.\n",
        "\n",
        "##**Application**\n",
        "+ In artistic endeavors, it empowers creators to generate unique visual content, fostering innovation.\n",
        "+ In multimedia production, the tool enhances storytelling through dynamic and customized imagery. Its adaptability finds utility in design, enabling the creation of personalized graphics.\n",
        "+ Furthermore, the integration of cloud-based services facilitates widespread accessibility and collaboration.\n",
        "+ This AI application serves as a versatile and indispensable resource for individuals and industries seeking advanced solutions for creative content generation and digital media production.\n",
        "\n",
        "## **Innovation**\n",
        "\n",
        " + The advanced algorithms bring a new dimension to creative content generation, allowing for dynamic and diverse outputs.\n",
        " + The intuitive user interface fosters ease of use and accessibility. Additionally, adaptive learning mechanisms push the boundaries of generative capabilities, while cloud integration innovates in scalability and collaboration.\n",
        " + These innovative elements collectively position the project at the forefront of AI-driven visual content creation, offering a sophisticated and adaptive tool for users across various creative disciplines.\n",
        "\n",
        "## **Technical proficiency**\n",
        "\n",
        "+ The project showcases expertise in algorithmic development, ensuring robust creative content generation.\n",
        "+ User-friendly features demonstrate a nuanced understanding of user needs and preferences. The establishment of an evaluation framework reflects a commitment to technical precision, assuring the reliability of generative AI outcomes.\n",
        "+ Overall, the project exhibits a high level of technical competency, positioning itself as a sophisticated and effective tool for users engaging in visual content creation."
      ],
      "metadata": {
        "id": "6cfvQgVYFl6W"
      }
    },
    {
      "cell_type": "markdown",
      "source": [
        "# **1.Installing Replicate library for seamless integration into project environment.**\n",
        "\n",
        "The provided code serves the role of installing the Replicate library. This action enables the seamless integration of Replicate's functionalities into the project environment, allowing for the effective utilization of advanced algorithms for Image and GIF Generative AI.\n"
      ],
      "metadata": {
        "id": "vKzL0U3a6wlx"
      }
    },
    {
      "cell_type": "code",
      "execution_count": 1,
      "metadata": {
        "colab": {
          "base_uri": "https://localhost:8080/"
        },
        "id": "CjlbJnxO2w-h",
        "outputId": "d5310067-be14-43c0-a615-d212058e238c"
      },
      "outputs": [
        {
          "output_type": "stream",
          "name": "stdout",
          "text": [
            "Collecting replicate\n",
            "  Downloading replicate-0.21.0-py3-none-any.whl (34 kB)\n",
            "Collecting httpx<1,>=0.21.0 (from replicate)\n",
            "  Downloading httpx-0.25.2-py3-none-any.whl (74 kB)\n",
            "\u001b[2K     \u001b[90m━━━━━━━━━━━━━━━━━━━━━━━━━━━━━━━━━━━━━━━━\u001b[0m \u001b[32m75.0/75.0 kB\u001b[0m \u001b[31m3.7 MB/s\u001b[0m eta \u001b[36m0:00:00\u001b[0m\n",
            "\u001b[?25hRequirement already satisfied: packaging in /usr/local/lib/python3.10/dist-packages (from replicate) (23.2)\n",
            "Requirement already satisfied: pydantic>1 in /usr/local/lib/python3.10/dist-packages (from replicate) (1.10.13)\n",
            "Requirement already satisfied: typing-extensions>=4.5.0 in /usr/local/lib/python3.10/dist-packages (from replicate) (4.5.0)\n",
            "Requirement already satisfied: anyio in /usr/local/lib/python3.10/dist-packages (from httpx<1,>=0.21.0->replicate) (3.7.1)\n",
            "Requirement already satisfied: certifi in /usr/local/lib/python3.10/dist-packages (from httpx<1,>=0.21.0->replicate) (2023.11.17)\n",
            "Collecting httpcore==1.* (from httpx<1,>=0.21.0->replicate)\n",
            "  Downloading httpcore-1.0.2-py3-none-any.whl (76 kB)\n",
            "\u001b[2K     \u001b[90m━━━━━━━━━━━━━━━━━━━━━━━━━━━━━━━━━━━━━━━━\u001b[0m \u001b[32m76.9/76.9 kB\u001b[0m \u001b[31m8.5 MB/s\u001b[0m eta \u001b[36m0:00:00\u001b[0m\n",
            "\u001b[?25hRequirement already satisfied: idna in /usr/local/lib/python3.10/dist-packages (from httpx<1,>=0.21.0->replicate) (3.6)\n",
            "Requirement already satisfied: sniffio in /usr/local/lib/python3.10/dist-packages (from httpx<1,>=0.21.0->replicate) (1.3.0)\n",
            "Collecting h11<0.15,>=0.13 (from httpcore==1.*->httpx<1,>=0.21.0->replicate)\n",
            "  Downloading h11-0.14.0-py3-none-any.whl (58 kB)\n",
            "\u001b[2K     \u001b[90m━━━━━━━━━━━━━━━━━━━━━━━━━━━━━━━━━━━━━━━━\u001b[0m \u001b[32m58.3/58.3 kB\u001b[0m \u001b[31m7.8 MB/s\u001b[0m eta \u001b[36m0:00:00\u001b[0m\n",
            "\u001b[?25hRequirement already satisfied: exceptiongroup in /usr/local/lib/python3.10/dist-packages (from anyio->httpx<1,>=0.21.0->replicate) (1.2.0)\n",
            "Installing collected packages: h11, httpcore, httpx, replicate\n",
            "Successfully installed h11-0.14.0 httpcore-1.0.2 httpx-0.25.2 replicate-0.21.0\n"
          ]
        }
      ],
      "source": [
        "# @title Install Replicate\n",
        "!pip install replicate\n"
      ]
    },
    {
      "cell_type": "markdown",
      "source": [
        "# **2.Assigning Replicate API token to environment for secure access, enabling integration of advanced AI functionalities.**\n",
        "\n",
        "\n"
      ],
      "metadata": {
        "id": "-EtGiSrD69zX"
      }
    },
    {
      "cell_type": "code",
      "source": [
        "API = \"r8_SeZg5oWaAwb8JiWRb2zqm4EblHhtiEq3Mu74j\"\n",
        "import os\n",
        "\n",
        "os.environ[\"REPLICATE_API_TOKEN\"] = API #find it here: https://replicate.com/signin?next=/account/api-tokens\n"
      ],
      "metadata": {
        "id": "zX0YyZI_3dx6"
      },
      "execution_count": 2,
      "outputs": []
    },
    {
      "cell_type": "markdown",
      "source": [
        "# **3.Using Replicate to generate image based on prompt \"jumping from a cliff\" using stable-diffusion model.**\n",
        "\n",
        "\n"
      ],
      "metadata": {
        "id": "sH5YFxFX7NVP"
      }
    },
    {
      "cell_type": "code",
      "source": [
        "# @title Generate Image\n",
        "prompt = \"jumping from a cliff\"\n",
        "import replicate\n",
        "\n",
        "output = replicate.run(\n",
        "  \"stability-ai/stable-diffusion:27b93a2413e7f36cd83da926f3656280b2931564ff050bf9575f1fdf9bcd7478\",\n",
        "  input={\"prompt\":prompt}\n",
        ")\n",
        "\n",
        "output"
      ],
      "metadata": {
        "colab": {
          "base_uri": "https://localhost:8080/"
        },
        "id": "b9jB54-K3p48",
        "outputId": "796c5ca8-49e8-4c4d-ab8b-e2aedef23c22"
      },
      "execution_count": 3,
      "outputs": [
        {
          "output_type": "execute_result",
          "data": {
            "text/plain": [
              "['https://replicate.delivery/pbxt/Cgjfld9xdW0xBa1RpJXQctx0dwBNWh0guLEbaJThZ7eide8jA/out-0.png']"
            ]
          },
          "metadata": {},
          "execution_count": 3
        }
      ]
    },
    {
      "cell_type": "markdown",
      "source": [
        "# **4.Displaying Replicate-generated image using IPython's Image class within Jupyter Notebook for visual analysis.**\n",
        "\n",
        "This code employs the IPython library to display the generated image obtained from the Replicate output. By utilizing the Image class, it presents the visual result of the AI-generated content, providing a convenient way to showcase and analyze the output within the Jupyter Notebook environment.\n",
        "\n"
      ],
      "metadata": {
        "id": "kw6QYycd7SVR"
      }
    },
    {
      "cell_type": "code",
      "source": [
        "\n",
        "from IPython.display import Image\n",
        "output_image = output\n",
        "Image(url=output_image[0])"
      ],
      "metadata": {
        "colab": {
          "base_uri": "https://localhost:8080/",
          "height": 534
        },
        "id": "7JWCVDHf3sYu",
        "outputId": "869fdf5e-5f53-4732-f433-881fddf31556"
      },
      "execution_count": 4,
      "outputs": [
        {
          "output_type": "execute_result",
          "data": {
            "text/html": [
              "<img src=\"https://replicate.delivery/pbxt/Cgjfld9xdW0xBa1RpJXQctx0dwBNWh0guLEbaJThZ7eide8jA/out-0.png\"/>"
            ],
            "text/plain": [
              "<IPython.core.display.Image object>"
            ]
          },
          "metadata": {},
          "execution_count": 4
        }
      ]
    },
    {
      "cell_type": "markdown",
      "source": [
        "# **5.Utilizes Replicate to create dynamic gif animation transitioning from \"jumping from a cliff\" to \"falling into the sea.**\n",
        "\n",
        "The code uses Replicate to generate a gif animation. It employs the stable-diffusion-animation model, transitioning from one prompt to another with a ping-pong effect.\n",
        "\n",
        " The resulting animation captures the dynamic evolution of the specified prompts, creating a visually engaging output.\n"
      ],
      "metadata": {
        "id": "U4dvFuOo7oxG"
      }
    },
    {
      "cell_type": "code",
      "source": [
        "# @title Video/gif/animation/Generation\n",
        "import replicate\n",
        "\n",
        "output = replicate.run(\n",
        "    \"andreasjansson/stable-diffusion-animation:ca1f5e306e5721e19c473e0d094e6603f0456fe759c10715fcd6c1b79242d4a5\",\n",
        "    input={\n",
        "        \"prompt_start\": \"jumping from a cliff\",\n",
        "        \"prompt_end\": \"Person falling into the sea\",\n",
        "        \"output_format\": \"gif\",\n",
        "        \"gif_ping_pong\": True\n",
        "    }\n",
        ")\n",
        "\n",
        "output\n"
      ],
      "metadata": {
        "colab": {
          "base_uri": "https://localhost:8080/"
        },
        "id": "6Owfxz0V3uov",
        "outputId": "947441bf-e7cb-492a-ffdd-793be967a718"
      },
      "execution_count": 5,
      "outputs": [
        {
          "output_type": "execute_result",
          "data": {
            "text/plain": [
              "<generator object Prediction.output_iterator at 0x792b01751c40>"
            ]
          },
          "metadata": {},
          "execution_count": 5
        }
      ]
    },
    {
      "cell_type": "markdown",
      "source": [
        "# **6.Iterates through Replicate output, likely containing details about the generated video or animation structure.**\n",
        "\n",
        "This code iterates through the output generated by Replicate, likely containing details about the video or animation.\n",
        "\n",
        "The provided link points to the Replicate API documentation, suggesting it offers insights into the output schema, providing information about the generated content's structure and format.\n",
        "\n"
      ],
      "metadata": {
        "id": "5G1iqzb-76Jo"
      }
    },
    {
      "cell_type": "code",
      "source": [
        "# @title generate video\n",
        "for item in output:\n",
        "     #https://replicate.com/andreasjansson/stable-diffusion-animation/versions/ca1f5e306e5721e19c473e0d094e6603f0456fe759c10715fcd6c1b79242d4a5/api#output-schema\n",
        "    print(item)"
      ],
      "metadata": {
        "colab": {
          "base_uri": "https://localhost:8080/"
        },
        "id": "1bkyp74E3wcl",
        "outputId": "7622896f-5ab9-4792-e666-291e2dd842b2"
      },
      "execution_count": 6,
      "outputs": [
        {
          "output_type": "stream",
          "name": "stdout",
          "text": [
            "https://replicate.delivery/pbxt/UgIgwcZfd6xeqk4Dgl3Jxo2BnqTZFupDXUFiEU93lwpPhe8jA/video.gif\n"
          ]
        }
      ]
    },
    {
      "cell_type": "markdown",
      "source": [
        "# **7.Attempts to retrieve video URL from Replicate output for display or download within Colab environment.**\n",
        "\n",
        "The code attempts to retrieve a video's URL in Colab from the Replicate output. However, there's an issue with \"item[0:len(item)]\", as it seems incomplete or incorrect for obtaining the URL.\n",
        "\n",
        "The purpose is likely to display or download the generated video within the Colab environment.\n",
        "\n"
      ],
      "metadata": {
        "id": "WK4etb_78Jq2"
      }
    },
    {
      "cell_type": "code",
      "source": [
        "\n",
        "# @title get the video on colab\n",
        "gif_url= item[0:len(item)]"
      ],
      "metadata": {
        "id": "exOI3-Rd3yn8"
      },
      "execution_count": 7,
      "outputs": []
    },
    {
      "cell_type": "markdown",
      "source": [
        "# **8.Retrieves and displays Replicate-generated GIF in Colab, saves it, and shows the saved GIF.**\n",
        "\n",
        "The code retrieves a GIF from the provided URL using the requests library. It then displays the GIF in the Colab notebook, saves it as \"gif_output.gif,\" and showcases the saved GIF using PIL if successfully fetched; otherwise, it prints an error message.\n",
        "\n"
      ],
      "metadata": {
        "id": "0J2u0K738Mk1"
      }
    },
    {
      "cell_type": "code",
      "source": [
        "# @title Show the video\n",
        "import requests\n",
        "from IPython.display import display, Image\n",
        "from PIL import Image as PILImage\n",
        "from io import BytesIO\n",
        "response = requests.get(gif_url)\n",
        "if response.status_code == 200:\n",
        "    # To Ddisplay the GIF in the notebook\n",
        "    display(Image(url=gif_url))\n",
        "\n",
        "    # To save the GIF in the Colab environment\n",
        "    with open(\"gif_output.gif\", \"wb\") as f:\n",
        "        f.write(response.content)\n",
        "\n",
        "    # TO show a saved GIF using PIL\n",
        "    saved_gif = PILImage.open(\"gif_output.gif\")\n",
        "    saved_gif.show()\n",
        "else:\n",
        "    print(\"Failed to fetch GIF\")\n"
      ],
      "metadata": {
        "colab": {
          "base_uri": "https://localhost:8080/",
          "height": 534
        },
        "id": "whx-a5Ne319x",
        "outputId": "a3417b80-90cf-413e-a969-30d87aff5bbd"
      },
      "execution_count": 8,
      "outputs": [
        {
          "output_type": "display_data",
          "data": {
            "text/html": [
              "<img src=\"https://replicate.delivery/pbxt/UgIgwcZfd6xeqk4Dgl3Jxo2BnqTZFupDXUFiEU93lwpPhe8jA/video.gif\"/>"
            ],
            "text/plain": [
              "<IPython.core.display.Image object>"
            ]
          },
          "metadata": {}
        }
      ]
    },
    {
      "cell_type": "markdown",
      "source": [
        "# **REFERENCES**\n",
        "\n",
        "* Replicate. https://replicate.com/account/api-tokens\n",
        "\n",
        "\n",
        "\n",
        "* GitHub - turna1/GenAI: Here, we focus on educating and enlightening the community about various Generative AI models through hands-on coding tutorials and informative articles. GitHub. https://github.com/turna1/GenAI\n",
        "\n",
        "* Python.org. https://www.python.org/doc/\n",
        "\n",
        "\n",
        "* Google Colab. colab.google. https://colab.google/"
      ],
      "metadata": {
        "id": "gdi6nuQbG9U6"
      }
    },
    {
      "cell_type": "markdown",
      "source": [
        "\n",
        "# **VIDEO PRESENTATION LINK**"
      ],
      "metadata": {
        "id": "NnHs-jd0HCvd"
      }
    },
    {
      "cell_type": "markdown",
      "source": [
        "\n",
        "# **Thank You**\n",
        "\n"
      ],
      "metadata": {
        "id": "HyYFTY6SLLok"
      }
    }
  ]
}